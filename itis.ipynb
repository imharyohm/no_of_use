{
 "cells": [
  {
   "cell_type": "code",
   "execution_count": 4,
   "metadata": {},
   "outputs": [
    {
     "name": "stdout",
     "output_type": "stream",
     "text": [
      " * Serving Flask app '__main__'\n",
      " * Debug mode: on\n"
     ]
    },
    {
     "name": "stderr",
     "output_type": "stream",
     "text": [
      "WARNING: This is a development server. Do not use it in a production deployment. Use a production WSGI server instead.\n",
      " * Running on http://127.0.0.1:5000\n",
      "Press CTRL+C to quit\n",
      " * Restarting with watchdog (windowsapi)\n"
     ]
    },
    {
     "ename": "SystemExit",
     "evalue": "1",
     "output_type": "error",
     "traceback": [
      "An exception has occurred, use %tb to see the full traceback.\n",
      "\u001b[1;31mSystemExit\u001b[0m\u001b[1;31m:\u001b[0m 1\n"
     ]
    },
    {
     "name": "stderr",
     "output_type": "stream",
     "text": [
      "c:\\Users\\KIIT\\Anaconda\\Lib\\site-packages\\IPython\\core\\interactiveshell.py:3585: UserWarning: To exit: use 'exit', 'quit', or Ctrl-D.\n",
      "  warn(\"To exit: use 'exit', 'quit', or Ctrl-D.\", stacklevel=1)\n"
     ]
    }
   ],
   "source": [
    "from flask import Flask, request, render_template\n",
    "import pandas as pd\n",
    "from langchain_openai import ChatOpenAI\n",
    "from langchain.schema import HumanMessage\n",
    "import os\n",
    "\n",
    "# Flask app setup\n",
    "app = Flask(__name__)\n",
    "\n",
    "# Load historical logs\n",
    "historical_logs = pd.read_csv('data/historical_logs.csv')  # Must have columns: 'text', 'label'\n",
    "\n",
    "# Set your OpenAI API key (you can use environment variable too)\n",
    "OPENAI_API_KEY = \"sk-UCuBbs9rn2Nx_NQzMgBdqw\"\n",
    "\n",
    "# Initialize Langchain's OpenAI wrapper\n",
    "chat_model = ChatOpenAI(model=\"gpt-4\", api_key=OPENAI_API_KEY)\n",
    "\n",
    "# Function to classify text using Langchain + OpenAI\n",
    "def classify_text_with_langchain(text):\n",
    "    prompt = f\"\"\"\n",
    "    You are a content moderation assistant. Classify the following text into one of these categories: \n",
    "    [\"abusive\", \"spam\", \"hate speech\", \"harmless\"]. \n",
    "    Only return the category.\n",
    "\n",
    "    Text: \"{text}\"\n",
    "    \"\"\"\n",
    "\n",
    "    # Use Langchain to send prompt to OpenAI\n",
    "    response = chat_model.invoke([HumanMessage(content=prompt)])\n",
    "    category = response.content.strip().lower()\n",
    "\n",
    "    # Validate category (optional safety check)\n",
    "    valid_categories = [\"abusive\", \"spam\", \"hate speech\", \"harmless\"]\n",
    "    if category not in valid_categories:\n",
    "        category = \"unknown\"\n",
    "    \n",
    "    return category\n",
    "\n",
    "# Find similar logs from historical data\n",
    "def find_similar_logs(text):\n",
    "    short_text = text[:30].lower()\n",
    "    similar_logs = historical_logs[historical_logs['text'].str.contains(short_text, case=False, na=False)]\n",
    "    return similar_logs.to_dict(orient='records')\n",
    "\n",
    "@app.route('/', methods=['GET', 'POST'])\n",
    "def index():\n",
    "    result = None\n",
    "\n",
    "    if request.method == 'POST':\n",
    "        user_text = request.form['user_text']\n",
    "\n",
    "        # Classify text using Langchain (OpenAI)\n",
    "        category = classify_text_with_langchain(user_text)\n",
    "\n",
    "        # Find similar historical logs\n",
    "        similar_logs = find_similar_logs(user_text)\n",
    "\n",
    "        result = {\n",
    "            \"text\": user_text,\n",
    "            \"category\": category,\n",
    "            \"historical_matches\": similar_logs\n",
    "        }\n",
    "\n",
    "    return render_template('index.html', result=result)\n",
    "\n",
    "if __name__ == '__main__':\n",
    "    app.run(debug=True)\n"
   ]
  },
  {
   "cell_type": "code",
   "execution_count": null,
   "metadata": {},
   "outputs": [],
   "source": []
  }
 ],
 "metadata": {
  "kernelspec": {
   "display_name": "base",
   "language": "python",
   "name": "python3"
  },
  "language_info": {
   "codemirror_mode": {
    "name": "ipython",
    "version": 3
   },
   "file_extension": ".py",
   "mimetype": "text/x-python",
   "name": "python",
   "nbconvert_exporter": "python",
   "pygments_lexer": "ipython3",
   "version": "3.12.7"
  }
 },
 "nbformat": 4,
 "nbformat_minor": 2
}
